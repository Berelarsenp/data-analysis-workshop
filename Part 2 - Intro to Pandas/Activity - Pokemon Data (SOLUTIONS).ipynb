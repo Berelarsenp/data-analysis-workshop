{
 "cells": [
  {
   "cell_type": "markdown",
   "metadata": {},
   "source": [
    "### 1 - Find the strongest Pokemon\n",
    "(Strongest defined as `max` attack)"
   ]
  },
  {
   "cell_type": "code",
   "execution_count": null,
   "metadata": {},
   "outputs": [],
   "source": [
    "import pandas as pd"
   ]
  },
  {
   "cell_type": "code",
   "execution_count": null,
   "metadata": {},
   "outputs": [],
   "source": [
    "df = pd.read_csv(\n",
    "    '../datasets/Pokemon.csv',\n",
    "    index_col='#',\n",
    "    dtype={\n",
    "        'Type 1': 'category',\n",
    "        'Type 2': 'category',\n",
    "        'Legendary': 'category'\n",
    "    })"
   ]
  },
  {
   "cell_type": "code",
   "execution_count": null,
   "metadata": {},
   "outputs": [],
   "source": [
    "df.sort_values('Attack', ascending=False).head(5)"
   ]
  },
  {
   "cell_type": "code",
   "execution_count": null,
   "metadata": {},
   "outputs": [],
   "source": [
    "df[df['Attack'] == df['Attack'].max()]"
   ]
  },
  {
   "cell_type": "markdown",
   "metadata": {},
   "source": [
    "### 2 - Find the weakest Pokemon\n",
    "(Weakest defined as `min` defense)"
   ]
  },
  {
   "cell_type": "code",
   "execution_count": null,
   "metadata": {},
   "outputs": [],
   "source": [
    "df[df['Attack'] == df['Attack'].min()]"
   ]
  },
  {
   "cell_type": "markdown",
   "metadata": {},
   "source": [
    "### 3 -What are the most common Pokemon type?\n",
    "Those with Type 1 and Type 2 repeated the most times. **Important** You shouldn't consider Pokemon with `Type 2` blank.\n",
    "\n",
    "**Solution**: `Normal-Flying`, there are 24."
   ]
  },
  {
   "cell_type": "code",
   "execution_count": null,
   "metadata": {},
   "outputs": [],
   "source": [
    "df = pd.read_csv(\n",
    "    '../datasets/Pokemon.csv',\n",
    "    index_col='#',\n",
    "    dtype={\n",
    "        'Type 1': 'category',\n",
    "        'Type 2': 'category',\n",
    "        'Legendary': 'category'\n",
    "    })"
   ]
  },
  {
   "cell_type": "code",
   "execution_count": null,
   "metadata": {},
   "outputs": [],
   "source": [
    "df[\"Combined Type\"] = df.apply(lambda p: \"{}-{}\".format(p['Type 1'], p['Type 2']), axis=1)"
   ]
  },
  {
   "cell_type": "code",
   "execution_count": null,
   "metadata": {},
   "outputs": [],
   "source": [
    "df[(~df['Type 1'].isnull()) & ~df['Type 2'].isnull()].groupby('Combined Type').count().sort_values(by='Name', ascending=False).head(1)"
   ]
  },
  {
   "cell_type": "markdown",
   "metadata": {},
   "source": [
    "### 4 - What are the most powerful Pokemon by Type 1?\n",
    "\n",
    "Most powerful defined by `Total`:\n",
    "\n",
    "```\n",
    "Bug         600\n",
    "Dark        680\n",
    "Dragon      780\n",
    "Electric    610\n",
    "Fairy       680\n",
    "Fighting    625\n",
    "Fire        680\n",
    "Flying      580\n",
    "Ghost       680\n",
    "Grass       630\n",
    "Ground      770\n",
    "Ice         580\n",
    "Normal      720\n",
    "Poison      535\n",
    "Psychic     780\n",
    "Rock        700\n",
    "Steel       700\n",
    "Water       770\n",
    "```"
   ]
  },
  {
   "cell_type": "code",
   "execution_count": null,
   "metadata": {},
   "outputs": [],
   "source": [
    "df = pd.read_csv(\n",
    "    '../datasets/Pokemon.csv',\n",
    "    index_col='#',\n",
    "    dtype={\n",
    "        'Type 1': 'category',\n",
    "        'Type 2': 'category',\n",
    "        'Legendary': 'category'\n",
    "    })"
   ]
  },
  {
   "cell_type": "code",
   "execution_count": null,
   "metadata": {},
   "outputs": [],
   "source": [
    "df.groupby('Type 1')['Total'].max()"
   ]
  },
  {
   "cell_type": "code",
   "execution_count": null,
   "metadata": {},
   "outputs": [],
   "source": [
    "df['Most Powerful per Group'] = df.groupby('Type 1')['Total'].transform('max')"
   ]
  },
  {
   "cell_type": "code",
   "execution_count": null,
   "metadata": {},
   "outputs": [],
   "source": [
    "df[df['Most Powerful per Group'] == df['Total']].groupby('Type 1').first()"
   ]
  },
  {
   "cell_type": "markdown",
   "metadata": {},
   "source": [
    "### 5 - Hidden Gems\n",
    "Find unique Pokemons! Find all those Pokemons that are \"unique\"; defined by being the only ones of their kind, that is, Type 1 and Type 2 are unique.\n",
    "\n",
    "For example, **CharizardMega Charizard X** is the only one of type `Fire-Dragon` and **Rotom** is the only one of type `Electric-Ghost`."
   ]
  },
  {
   "cell_type": "code",
   "execution_count": null,
   "metadata": {},
   "outputs": [],
   "source": [
    "df = pd.read_csv(\n",
    "    '../datasets/Pokemon.csv',\n",
    "    index_col='#',\n",
    "    dtype={\n",
    "        'Type 1': 'category',\n",
    "        'Type 2': 'category',\n",
    "        'Legendary': 'category'\n",
    "    })"
   ]
  },
  {
   "cell_type": "code",
   "execution_count": null,
   "metadata": {},
   "outputs": [],
   "source": [
    "df[\"Combined Type\"] = df.apply(lambda p: \"{}-{}\".format(p['Type 1'], p['Type 2']), axis=1)"
   ]
  },
  {
   "cell_type": "code",
   "execution_count": null,
   "metadata": {},
   "outputs": [],
   "source": [
    "uniques_df = df.drop_duplicates('Combined Type', keep=False)"
   ]
  },
  {
   "cell_type": "code",
   "execution_count": null,
   "metadata": {},
   "outputs": [],
   "source": [
    "df[(df['Type 1'] == 'Electric') & (df['Type 2'] == 'Ghost')]"
   ]
  }
 ],
 "metadata": {
  "kernelspec": {
   "display_name": "Python 3",
   "language": "python",
   "name": "python3"
  },
  "language_info": {
   "codemirror_mode": {
    "name": "ipython",
    "version": 3
   },
   "file_extension": ".py",
   "mimetype": "text/x-python",
   "name": "python",
   "nbconvert_exporter": "python",
   "pygments_lexer": "ipython3",
   "version": "3.6.0"
  }
 },
 "nbformat": 4,
 "nbformat_minor": 2
}
