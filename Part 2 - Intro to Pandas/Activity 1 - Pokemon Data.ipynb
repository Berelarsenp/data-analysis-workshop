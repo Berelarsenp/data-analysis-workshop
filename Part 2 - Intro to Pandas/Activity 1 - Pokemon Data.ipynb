{
 "cells": [
  {
   "cell_type": "markdown",
   "metadata": {},
   "source": [
    "Activities:\n",
    "    * Find the strongest (max attack) pokemons by Type 1 **(Done)**\n",
    "    * Find the weakest (min defense) pokemons by Type 2  **(Done)**\n",
    "    * Find hidden gems **(Done)**"
   ]
  },
  {
   "cell_type": "markdown",
   "metadata": {},
   "source": [
    "### 1 - Find the strongest Pokemon\n",
    "(Strongest defined as `max` attack)"
   ]
  },
  {
   "cell_type": "code",
   "execution_count": null,
   "metadata": {},
   "outputs": [],
   "source": [
    "import pandas as pd"
   ]
  },
  {
   "cell_type": "code",
   "execution_count": null,
   "metadata": {},
   "outputs": [],
   "source": [
    "df = pd.read_csv(\n",
    "    '../datasets/Pokemon.csv',\n",
    "    index_col='#',\n",
    "    dtype={\n",
    "        'Type 1': 'category',\n",
    "        'Type 2': 'category',\n",
    "        'Legendary': 'category'\n",
    "    })"
   ]
  },
  {
   "cell_type": "code",
   "execution_count": null,
   "metadata": {},
   "outputs": [],
   "source": [
    "df.sort_values('Attack', ascending=False).head(5)"
   ]
  },
  {
   "cell_type": "code",
   "execution_count": null,
   "metadata": {},
   "outputs": [],
   "source": [
    "df[df['Attack'] == df['Attack'].max()]"
   ]
  },
  {
   "cell_type": "markdown",
   "metadata": {},
   "source": [
    "### 2 - Find the weakest Pokemon\n",
    "(Weakest defined as `min` defense)"
   ]
  },
  {
   "cell_type": "code",
   "execution_count": null,
   "metadata": {},
   "outputs": [],
   "source": [
    "df[df['Attack'] == df['Attack'].min()]"
   ]
  },
  {
   "cell_type": "code",
   "execution_count": null,
   "metadata": {},
   "outputs": [],
   "source": []
  },
  {
   "cell_type": "code",
   "execution_count": null,
   "metadata": {},
   "outputs": [],
   "source": []
  },
  {
   "cell_type": "code",
   "execution_count": null,
   "metadata": {},
   "outputs": [],
   "source": []
  },
  {
   "cell_type": "markdown",
   "metadata": {},
   "source": [
    "### X - Hidden Gems\n",
    "Find unique Pokemons! Find all those Pokemons that are \"unique\"; defined by being the only ones of their kind, that is, Type 1 and Type 2 are unique.\n",
    "\n",
    "For example, **CharizardMega Charizard X** is the only one of type `Fire-Dragon` and **Rotom** is the only one of type `Electric-Ghost`."
   ]
  },
  {
   "cell_type": "code",
   "execution_count": null,
   "metadata": {},
   "outputs": [],
   "source": [
    "df = pd.read_csv(\n",
    "    '../datasets/Pokemon.csv',\n",
    "    index_col='#',\n",
    "    dtype={\n",
    "        'Type 1': 'category',\n",
    "        'Type 2': 'category',\n",
    "        'Legendary': 'category'\n",
    "    })"
   ]
  },
  {
   "cell_type": "code",
   "execution_count": null,
   "metadata": {},
   "outputs": [],
   "source": [
    "df[\"Combined Type\"] = df.apply(lambda p: \"{}-{}\".format(p['Type 1'], p['Type 2']), axis=1)"
   ]
  },
  {
   "cell_type": "code",
   "execution_count": null,
   "metadata": {},
   "outputs": [],
   "source": [
    "uniques_df = df.drop_duplicates('Combined Type', keep=False)"
   ]
  },
  {
   "cell_type": "code",
   "execution_count": null,
   "metadata": {},
   "outputs": [],
   "source": [
    "df[(df['Type 1'] == 'Electric') & (df['Type 2'] == 'Ghost')]"
   ]
  }
 ],
 "metadata": {
  "kernelspec": {
   "display_name": "Python 3",
   "language": "python",
   "name": "python3"
  },
  "language_info": {
   "codemirror_mode": {
    "name": "ipython",
    "version": 3
   },
   "file_extension": ".py",
   "mimetype": "text/x-python",
   "name": "python",
   "nbconvert_exporter": "python",
   "pygments_lexer": "ipython3",
   "version": "3.6.0"
  }
 },
 "nbformat": 4,
 "nbformat_minor": 2
}
