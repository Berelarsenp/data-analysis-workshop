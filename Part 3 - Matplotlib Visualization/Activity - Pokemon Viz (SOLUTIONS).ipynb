{
 "cells": [
  {
   "cell_type": "markdown",
   "metadata": {},
   "source": [
    "# Visualizing Pokemon data"
   ]
  },
  {
   "cell_type": "markdown",
   "metadata": {},
   "source": [
    "### 1 - Pokemon type share\n",
    "\n",
    "Make a Pie chart showing the distribution of Pokemons by Type 1:\n",
    "\n",
    "![Pokemon by type](https://user-images.githubusercontent.com/872296/35415686-46851a10-0205-11e8-9105-22bf740c389c.png)\n"
   ]
  },
  {
   "cell_type": "code",
   "execution_count": null,
   "metadata": {},
   "outputs": [],
   "source": [
    "import pandas as pd\n",
    "%matplotlib inline"
   ]
  },
  {
   "cell_type": "code",
   "execution_count": null,
   "metadata": {},
   "outputs": [],
   "source": [
    "df = pd.read_csv(\n",
    "    '../datasets/Pokemon.csv',\n",
    "    index_col='#',\n",
    "    dtype={\n",
    "        'Type 1': 'category',\n",
    "        'Type 2': 'category',\n",
    "        'Legendary': 'category'\n",
    "    })"
   ]
  },
  {
   "cell_type": "code",
   "execution_count": null,
   "metadata": {},
   "outputs": [],
   "source": [
    "df['Type 1'].value_counts().plot(kind='pie')"
   ]
  },
  {
   "cell_type": "code",
   "execution_count": null,
   "metadata": {},
   "outputs": [],
   "source": [
    "df.groupby('Type 1').size().plot(kind='pie')"
   ]
  },
  {
   "cell_type": "markdown",
   "metadata": {},
   "source": [
    "### 2 - Compare Pokemon Attack per Type\n",
    "Create a bar chart with each Pokemon Type and the max attack found in the group:\n",
    "\n",
    "![Max attack per type](https://user-images.githubusercontent.com/872296/35418402-c6445d00-0210-11e8-8390-caab7458986b.png)\n"
   ]
  },
  {
   "cell_type": "code",
   "execution_count": null,
   "metadata": {},
   "outputs": [],
   "source": [
    "df.groupby('Type 1')['Attack'].max().plot(kind='bar', figsize=(16, 9))"
   ]
  }
 ],
 "metadata": {
  "kernelspec": {
   "display_name": "Python 3",
   "language": "python",
   "name": "python3"
  },
  "language_info": {
   "codemirror_mode": {
    "name": "ipython",
    "version": 3
   },
   "file_extension": ".py",
   "mimetype": "text/x-python",
   "name": "python",
   "nbconvert_exporter": "python",
   "pygments_lexer": "ipython3",
   "version": "3.6.0"
  }
 },
 "nbformat": 4,
 "nbformat_minor": 2
}
