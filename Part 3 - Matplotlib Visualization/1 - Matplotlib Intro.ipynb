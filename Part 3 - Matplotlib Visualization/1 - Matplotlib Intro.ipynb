{
 "cells": [
  {
   "cell_type": "markdown",
   "metadata": {},
   "source": [
    "# Intro to Matplotlib\n",
    "\n",
    "_[https://matplotlib.org/gallery.html](https://matplotlib.org/gallery.html)_\n",
    "\n",
    "![untitled drawing 2](https://user-images.githubusercontent.com/872296/35394597-e677bbde-01c6-11e8-86c4-9be7445084a2.png)\n"
   ]
  },
  {
   "cell_type": "code",
   "execution_count": null,
   "metadata": {},
   "outputs": [],
   "source": [
    "import pandas as pd\n",
    "import numpy as np\n",
    "import matplotlib.pyplot as plt\n",
    "%matplotlib inline"
   ]
  },
  {
   "cell_type": "code",
   "execution_count": null,
   "metadata": {},
   "outputs": [],
   "source": [
    "x = np.array([-6, -5, -4, -3, -2, -1, 0, 1, 2, 3, 4, 5, 6])\n",
    "y = x ** 2"
   ]
  },
  {
   "cell_type": "markdown",
   "metadata": {},
   "source": [
    "### Simple Global API"
   ]
  },
  {
   "cell_type": "code",
   "execution_count": null,
   "metadata": {},
   "outputs": [],
   "source": [
    "plt.plot(x, y)"
   ]
  },
  {
   "cell_type": "code",
   "execution_count": null,
   "metadata": {},
   "outputs": [],
   "source": [
    "plt.plot(x, y, 'g.')"
   ]
  },
  {
   "cell_type": "code",
   "execution_count": null,
   "metadata": {},
   "outputs": [],
   "source": [
    "plt.plot(x, y)\n",
    "plt.xlabel('Points')\n",
    "plt.ylabel('Values')\n",
    "plt.title('Quadratic function')"
   ]
  },
  {
   "cell_type": "code",
   "execution_count": null,
   "metadata": {},
   "outputs": [],
   "source": [
    "plt.plot(x, y, label='line 1')\n",
    "plt.plot(x, y * -1, 'o--', label='line 2')\n",
    "plt.legend()"
   ]
  },
  {
   "cell_type": "code",
   "execution_count": null,
   "metadata": {},
   "outputs": [],
   "source": [
    "plt.bar(x, y, align='edge', width=.5)\n",
    "plt.bar(x, y * 2, align='edge', width=.2)"
   ]
  },
  {
   "cell_type": "markdown",
   "metadata": {},
   "source": [
    "### OOP API (recommended)\n",
    "(Non global API, recommended)\n",
    "\n",
    "* [Figure docs](https://matplotlib.org/2.0.1/api/figure_api.html)\n",
    "* [Axes docs](https://matplotlib.org/2.0.1/api/axes_api.html)\n"
   ]
  },
  {
   "cell_type": "code",
   "execution_count": null,
   "metadata": {
    "scrolled": false
   },
   "outputs": [],
   "source": [
    "figure = plt.figure(facecolor='red', figsize=(16, 9))\n",
    "axes = figure.add_axes((0, 0, .5, .5))\n",
    "\n",
    "axes.plot(x, y, label='x**2')\n",
    "axes.set_xlabel('Point')\n",
    "axes.set_ylabel('Values')\n",
    "axes.set_title('Quadratic Func OOP')\n",
    "axes.legend(loc='upper center')"
   ]
  },
  {
   "cell_type": "code",
   "execution_count": null,
   "metadata": {},
   "outputs": [],
   "source": [
    "figure = plt.figure(facecolor='red', figsize=(16, 9))\n",
    "a1 = figure.add_axes((0, 0, .9, .9))\n",
    "a2 = figure.add_axes((0.5, 0.5, .3, .2))"
   ]
  },
  {
   "cell_type": "markdown",
   "metadata": {},
   "source": [
    "### OOP Shortcut, `subplots`"
   ]
  },
  {
   "cell_type": "code",
   "execution_count": null,
   "metadata": {},
   "outputs": [],
   "source": [
    "fig, axes = plt.subplots(nrows=2, ncols=4, figsize=(16, 9))"
   ]
  },
  {
   "cell_type": "code",
   "execution_count": null,
   "metadata": {},
   "outputs": [],
   "source": [
    "axes"
   ]
  },
  {
   "cell_type": "code",
   "execution_count": null,
   "metadata": {},
   "outputs": [],
   "source": [
    "axes[0][1].plot(x, y)\n",
    "fig"
   ]
  },
  {
   "cell_type": "code",
   "execution_count": null,
   "metadata": {},
   "outputs": [],
   "source": [
    "axes[0][0].bar(x, y)\n",
    "fig.suptitle('General Title')\n",
    "for ir, row in enumerate(axes, 1):\n",
    "    for ic, col in enumerate(row, 1):\n",
    "        col.set_title('Chart {} - {}'.format(ir, ic))\n",
    "fig"
   ]
  },
  {
   "cell_type": "markdown",
   "metadata": {},
   "source": [
    "### Other Plot Types"
   ]
  },
  {
   "cell_type": "code",
   "execution_count": null,
   "metadata": {},
   "outputs": [],
   "source": [
    "fig, axes = plt.subplots(nrows=1, ncols=3, figsize=(16, 9))\n",
    "axes[0].scatter(x, y)\n",
    "axes[1].bar(x, y)\n",
    "axes[2].barh(x, y)"
   ]
  }
 ],
 "metadata": {
  "kernelspec": {
   "display_name": "Python 3",
   "language": "python",
   "name": "python3"
  },
  "language_info": {
   "codemirror_mode": {
    "name": "ipython",
    "version": 3
   },
   "file_extension": ".py",
   "mimetype": "text/x-python",
   "name": "python",
   "nbconvert_exporter": "python",
   "pygments_lexer": "ipython3",
   "version": "3.6.0"
  }
 },
 "nbformat": 4,
 "nbformat_minor": 2
}
